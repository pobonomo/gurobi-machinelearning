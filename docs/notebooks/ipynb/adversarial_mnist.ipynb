{
 "cells": [
  {
   "cell_type": "code",
   "execution_count": null,
   "id": "8079c623",
   "metadata": {
    "slideshow": {
     "slide_type": "skip"
    }
   },
   "outputs": [],
   "source": [
    "from traitlets.config.manager import BaseJSONConfigManager\n",
    "from pathlib import Path\n",
    "path = Path.home()/\".jupyter\"/\"nbconfig\"\n",
    "cm = BaseJSONConfigManager(config_dir=str(path))\n",
    "cm.update(\n",
    "    \"rise\",\n",
    "    {\n",
    "        \"transition\": \"linear\",\n",
    "        \"start_slideshow_at\": \"selected\",\n",
    "        \"scroll\": True,\n",
    "        \"enable_chalkboard\": False,  # scrollable slides are only available without chalkboard\n",
    "        \"header\": \"<div class=logo><img src=images/gurobi-light.svg alt=Gurobi></div>\"\n",
    "    }\n",
    ")"
   ]
  },
  {
   "cell_type": "markdown",
   "id": "9c25c77a",
   "metadata": {
    "slideshow": {
     "slide_type": "subslide"
    }
   },
   "source": [
    "# Adversarial Machine Learning with Gurobi\n",
    "\n",
    "In this example, we show how to use Gurobi Machine Learning to construct an\n",
    "adversarial example for a trained neural network.\n",
    "\n",
    "We use the MNIST handwritten digit database (http://yann.lecun.com/exdb/mnist/)."
   ]
  },
  {
   "cell_type": "markdown",
   "id": "ab77e95f",
   "metadata": {
    "slideshow": {
     "slide_type": "slide"
    }
   },
   "source": [
    "We are given a (small) trained neural network and one well classified\n",
    "example $\\bar x$. Our goal is to construct another example $x$ _close to_ $\\bar\n",
    "x$ that is classified with a different label."
   ]
  },
  {
   "cell_type": "code",
   "execution_count": null,
   "id": "66c369e0",
   "metadata": {
    "slideshow": {
     "slide_type": "skip"
    }
   },
   "outputs": [],
   "source": [
    "import gurobipy as gp\n",
    "import numpy as np\n",
    "from joblib import load\n",
    "from matplotlib import pyplot as plt\n",
    "\n",
    "from gurobi_ml.sklearn import add_mlp_regressor_constr"
   ]
  },
  {
   "cell_type": "code",
   "execution_count": null,
   "id": "a9969f6d",
   "metadata": {
    "slideshow": {
     "slide_type": "fragment"
    }
   },
   "outputs": [],
   "source": [
    "# Load the trained network and the examples\n",
    "mnist_data = load(\"../../../tests/predictors/mnist__mlpclassifier.joblib\")\n",
    "X = mnist_data[\"data\"]\n",
    "nn = mnist_data[\"predictor\"]\n",
    "# Choose an example\n",
    "exampleno = 26\n",
    "example = X[exampleno : exampleno + 1, :]"
   ]
  },
  {
   "cell_type": "markdown",
   "id": "06e9b32a",
   "metadata": {
    "slideshow": {
     "slide_type": "subslide"
    }
   },
   "source": [
    "The example is a grayscale image of $28\n",
    "\\times 28$ ($=784$) pixels.\n",
    "\n",
    "The output is a vector of length 10 (each entry\n",
    "corresponding to a digit).\n",
    "\n",
    "We denote the output vector by $y$. The image is\n",
    "classified according to the largest entry of $y$."
   ]
  },
  {
   "cell_type": "code",
   "execution_count": null,
   "id": "069b7f65",
   "metadata": {
    "slideshow": {
     "slide_type": "fragment"
    }
   },
   "outputs": [],
   "source": [
    "plt.imshow(example.reshape((28, 28)), cmap=\"gray\")\n",
    "print(f\"Predicted label {nn.predict(example)}\")"
   ]
  },
  {
   "cell_type": "markdown",
   "id": "5dbdea6a",
   "metadata": {
    "slideshow": {
     "slide_type": "slide"
    }
   },
   "source": [
    "The neural network has two hidden layers of 50 neurons each"
   ]
  },
  {
   "cell_type": "code",
   "execution_count": null,
   "id": "c05570ee",
   "metadata": {
    "slideshow": {
     "slide_type": "fragment"
    }
   },
   "outputs": [],
   "source": [
    "nn"
   ]
  },
  {
   "cell_type": "markdown",
   "id": "5faa9ba2",
   "metadata": {
    "slideshow": {
     "slide_type": "subslide"
    }
   },
   "source": [
    "We use `predict_proba` to get the weight for each label given by the neural\n",
    "network."
   ]
  },
  {
   "cell_type": "code",
   "execution_count": null,
   "id": "043af892",
   "metadata": {
    "slideshow": {
     "slide_type": "fragment"
    }
   },
   "outputs": [],
   "source": [
    "ex_prob = nn.predict_proba(example)\n",
    "\n",
    "print(f\"Label weights for training example:\\n {ex_prob}\")"
   ]
  },
  {
   "cell_type": "markdown",
   "id": "28f21b39",
   "metadata": {
    "slideshow": {
     "slide_type": "subslide"
    }
   },
   "source": [
    "For this training example, coordinate $l=4$ of the output vector is\n",
    "the one with the largest value giving the correct label. We pick a coordinate\n",
    "corresponding to another label $w=9$, and we want the difference between\n",
    "$y_9 - y_4$ to be as large as possible.\n",
    "\n",
    "If we find a $x$ where this difference is positive, then $x$ is a\n",
    "counter-example that receives a different label. If instead we show that\n",
    "the difference is negative, no such counter-example exists."
   ]
  },
  {
   "cell_type": "code",
   "execution_count": null,
   "id": "86c7a807",
   "metadata": {
    "slideshow": {
     "slide_type": "fragment"
    }
   },
   "outputs": [],
   "source": [
    "right_label = 4\n",
    "wrong_label = 9"
   ]
  },
  {
   "cell_type": "markdown",
   "id": "ea4632d9",
   "metadata": {
    "slideshow": {
     "slide_type": "subslide"
    }
   },
   "source": [
    "We define the neighborhood using the $l1-$norm $|| x - \\bar x\n",
    "||_1$, it is defined by a fixed parameter $\\delta$."
   ]
  },
  {
   "cell_type": "markdown",
   "id": "15f7deb6",
   "metadata": {
    "slideshow": {
     "slide_type": "fragment"
    }
   },
   "source": [
    "If we denote by $g$ the prediction function of the neural network. Our full\n",
    "optimization model reads:\n",
    "\n",
    "$$ \\begin{aligned} &\\max y_w - y_l \\\\\n",
    "&\\text{subject to:}\\\\\n",
    "&|| x - \\bar x ||_1 \\le \\delta,\\\\\n",
    "& y = g(x). \\end{aligned} $$\n",
    "\n",
    "\n",
    "Note that our model is inspired by <cite data-cite=\"fischetti_jo_2018\">Fischet al.\n",
    "(2018)</cite>."
   ]
  },
  {
   "cell_type": "markdown",
   "id": "cf96e553",
   "metadata": {
    "slideshow": {
     "slide_type": "slide"
    }
   },
   "source": [
    "## Optimization Model\n",
    "\n",
    "Now build the model with gurobipy"
   ]
  },
  {
   "cell_type": "markdown",
   "id": "c3c478fd",
   "metadata": {
    "slideshow": {
     "slide_type": "slide"
    }
   },
   "source": [
    "Create a matrix variable `x` corresponding to input of the\n",
    "neural network and a matrix variable `y` corresponding to the output of the\n",
    "example we picked and the shape of the return value of `predict_proba`."
   ]
  },
  {
   "cell_type": "code",
   "execution_count": null,
   "id": "56414022",
   "metadata": {
    "slideshow": {
     "slide_type": "fragment"
    }
   },
   "outputs": [],
   "source": [
    "m = gp.Model()\n",
    "delta = 5\n",
    "\n",
    "x = m.addMVar(example.shape, lb=0.0, ub=1.0, name=\"x\")\n",
    "y = m.addMVar(ex_prob.shape, lb=-gp.GRB.INFINITY, name=\"y\")"
   ]
  },
  {
   "cell_type": "markdown",
   "id": "b55017ec",
   "metadata": {
    "slideshow": {
     "slide_type": "subslide"
    }
   },
   "source": [
    "Set the objective to maximize the difference between the\n",
    "_wrong_ label and the _right_ label."
   ]
  },
  {
   "cell_type": "code",
   "execution_count": null,
   "id": "1213fb31",
   "metadata": {
    "slideshow": {
     "slide_type": "fragment"
    }
   },
   "outputs": [],
   "source": [
    "m.setObjective(y[0, wrong_label] - y[0, right_label], gp.GRB.MAXIMIZE)"
   ]
  },
  {
   "cell_type": "markdown",
   "id": "b07c9a38",
   "metadata": {
    "slideshow": {
     "slide_type": "slide"
    }
   },
   "source": [
    "Crete additional variables to model the $l1-$norm constraint.\n",
    "\n",
    "For each pixel in the image, we need to model the absolute difference between $x$\n",
    "and $\\bar x$.\n",
    "\n",
    "Denote by $\\eta$ the matrix variable measuring the absolute difference."
   ]
  },
  {
   "cell_type": "markdown",
   "id": "6025c4a6",
   "metadata": {
    "slideshow": {
     "slide_type": "subslide"
    }
   },
   "source": [
    "The $l1-$norm constraint is formulated with:\n",
    "\n",
    "$$ \\eta \\ge x - \\bar x \\\\\n",
    "\\eta \\ge \\bar x - x \\\\\n",
    "\\sum \\eta \\le \\delta $$"
   ]
  },
  {
   "cell_type": "code",
   "execution_count": null,
   "id": "c6c9cb45",
   "metadata": {
    "slideshow": {
     "slide_type": "fragment"
    }
   },
   "outputs": [],
   "source": [
    "# Bound on the distance to example in norm-1\n",
    "eta = m.addMVar(example.shape, lb=0, ub=1, name=\"abs_diff\")\n",
    "m.addConstr(eta >= x - example)\n",
    "m.addConstr(eta >= -x + example)\n",
    "m.addConstr(eta.sum() <= delta);"
   ]
  },
  {
   "cell_type": "markdown",
   "id": "ae933fbd",
   "metadata": {
    "slideshow": {
     "slide_type": "slide"
    }
   },
   "source": [
    "Finally, insert the neural network in the `gurobipy` model to link `x` and\n",
    "`y`.\n",
    "\n",
    "Note that the neural network is trained for classification with a `\"softmax\"` activation in\n",
    "the last layer. But in this model we are using the network without activation in\n",
    "the last layer.\n",
    "\n",
    "For this reason, we change manually the last layer activation before adding the\n",
    "network to the Gurobi model."
   ]
  },
  {
   "cell_type": "code",
   "execution_count": null,
   "id": "b205eba3",
   "metadata": {
    "slideshow": {
     "slide_type": "fragment"
    }
   },
   "outputs": [],
   "source": [
    "# Change last layer activation to identity\n",
    "nn.out_activation_ = \"identity\"\n",
    "# Code to add the neural network to the constraints\n",
    "pred_constr = add_mlp_regressor_constr(m, nn, x, y)\n",
    "\n",
    "# Restore activation\n",
    "nn.out_activation_ = \"softmax\""
   ]
  },
  {
   "cell_type": "markdown",
   "id": "40bd4c99",
   "metadata": {
    "slideshow": {
     "slide_type": "subslide"
    }
   },
   "source": [
    "The model should be complete. We print the statistics of what was added to\n",
    "insert the neural network into the optimization model."
   ]
  },
  {
   "cell_type": "code",
   "execution_count": null,
   "id": "5662f2de",
   "metadata": {
    "slideshow": {
     "slide_type": "fragment"
    }
   },
   "outputs": [],
   "source": [
    "pred_constr.print_stats()"
   ]
  },
  {
   "cell_type": "markdown",
   "id": "a1c76b3b",
   "metadata": {
    "slideshow": {
     "slide_type": "slide"
    }
   },
   "source": [
    "## Solving the model\n",
    "\n",
    "We now turn to solving the optimization model. Solving the adversarial problem,\n",
    "as we formulated it above, doesn't actually require computing a provably optimal\n",
    "solution. Instead, we need to either:\n",
    "\n",
    "   - find a feasible solution with a positive objective cost (i.e. a\n",
    "     counter-example), or\n",
    "   - prove that there is no solution of positive cost (i.e. no counter-example\n",
    "     in the neighborhood exists).\n",
    "\n",
    " We use Gurobi parameters to limit the optimization to limit the optimization to answering those\n",
    " questions."
   ]
  },
  {
   "cell_type": "code",
   "execution_count": null,
   "id": "8f3f46a9",
   "metadata": {
    "slideshow": {
     "slide_type": "subslide"
    }
   },
   "outputs": [],
   "source": [
    "m.Params.BestBdStop = 0.0\n",
    "m.Params.BestObjStop = 0.0\n",
    "m.optimize()"
   ]
  },
  {
   "cell_type": "markdown",
   "id": "4994dc4d",
   "metadata": {
    "slideshow": {
     "slide_type": "slide"
    }
   },
   "source": [
    "## Results\n",
    "\n",
    "Normally, for the example and $\\delta$ we chose, a counter example that gets the\n",
    "wrong label is found. We finish this notebook by plotting the counter example\n",
    "and printing how it is classified by the neural network."
   ]
  },
  {
   "cell_type": "code",
   "execution_count": null,
   "id": "f8475ca5",
   "metadata": {
    "slideshow": {
     "slide_type": "fragment"
    }
   },
   "outputs": [],
   "source": [
    "plt.imshow(x.X.reshape((28, 28)), cmap=\"gray\")\n",
    "print(f\"Solution is classified as {nn.predict(x.X)}\")"
   ]
  },
  {
   "cell_type": "markdown",
   "id": "ecb906e7",
   "metadata": {
    "nbsphinx": "hidden",
    "slideshow": {
     "slide_type": "slide"
    }
   },
   "source": [
    "<div class=\"titlepage\">\n",
    "\n",
    "# Thank you!\n",
    "\n",
    "<br>\n",
    "<br>\n",
    "<br>\n",
    "\n",
    "Find out more [Gurobi Machine Learning](https://gurobi-optimization-gurobi-machine-learning.readthedocs-hosted.com/en/stable/)\n",
    "\n",
    "</div>"
   ]
  },
  {
   "cell_type": "code",
   "execution_count": null,
   "id": "6c60465f",
   "metadata": {
    "slideshow": {
     "slide_type": "skip"
    }
   },
   "outputs": [],
   "source": [
    "m.write('ReLU.lp')"
   ]
  },
  {
   "cell_type": "code",
   "execution_count": null,
   "id": "c988ec4b",
   "metadata": {},
   "outputs": [],
   "source": []
  }
 ],
 "metadata": {
  "celltoolbar": "Slideshow",
  "jupytext": {
   "formats": "ipynb///ipynb,myst///md:myst"
  },
  "kernelspec": {
   "display_name": "Python 3 (ipykernel)",
   "language": "python",
   "name": "python3"
  },
  "language_info": {
   "codemirror_mode": {
    "name": "ipython",
    "version": 3
   },
   "file_extension": ".py",
   "mimetype": "text/x-python",
   "name": "python",
   "nbconvert_exporter": "python",
   "pygments_lexer": "ipython3",
   "version": "3.9.12"
  },
  "license": {
   "full_text": "# Copyright © 2023 Gurobi Optimization, LLC\n#\n# Licensed under the Apache License, Version 2.0 (the \"License\");\n# you may not use this file except in compliance with the License.\n# You may obtain a copy of the License at\n#\n#     http://www.apache.org/licenses/LICENSE-2.0\n#\n# Unless required by applicable law or agreed to in writing, software\n# distributed under the License is distributed on an \"AS IS\" BASIS,\n# WITHOUT WARRANTIES OR CONDITIONS OF ANY KIND, either express or implied.\n# See the License for the specific language governing permissions and\n# limitations under the License.\n# =============================================================================="
  }
 },
 "nbformat": 4,
 "nbformat_minor": 5
}
